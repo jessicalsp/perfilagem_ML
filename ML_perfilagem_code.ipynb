{
  "nbformat": 4,
  "nbformat_minor": 0,
  "metadata": {
    "colab": {
      "provenance": [],
      "authorship_tag": "ABX9TyNjxG+Zu2LvbBKl+iOuZCD7",
      "include_colab_link": true
    },
    "kernelspec": {
      "name": "python3",
      "display_name": "Python 3"
    },
    "language_info": {
      "name": "python"
    }
  },
  "cells": [
    {
      "cell_type": "markdown",
      "metadata": {
        "id": "view-in-github",
        "colab_type": "text"
      },
      "source": [
        "<a href=\"https://colab.research.google.com/github/jessicalsp/perfilagem_ML/blob/main/ML_perfilagem_code.ipynb\" target=\"_parent\"><img src=\"https://colab.research.google.com/assets/colab-badge.svg\" alt=\"Open In Colab\"/></a>"
      ]
    },
    {
      "cell_type": "code",
      "execution_count": 4,
      "metadata": {
        "colab": {
          "base_uri": "https://localhost:8080/"
        },
        "id": "RQ9no1x9Gi5u",
        "outputId": "c0512b18-c110-4a53-c42e-e14f55a8241b"
      },
      "outputs": [
        {
          "output_type": "stream",
          "name": "stdout",
          "text": [
            "Cloning into 'perfilagem_ML'...\n",
            "remote: Enumerating objects: 66, done.\u001b[K\n",
            "remote: Counting objects:  33% (1/3)\u001b[K\rremote: Counting objects:  66% (2/3)\u001b[K\rremote: Counting objects: 100% (3/3)\u001b[K\rremote: Counting objects: 100% (3/3), done.\u001b[K\n",
            "remote: Compressing objects:  33% (1/3)\u001b[K\rremote: Compressing objects:  66% (2/3)\u001b[K\rremote: Compressing objects: 100% (3/3)\u001b[K\rremote: Compressing objects: 100% (3/3), done.\u001b[K\n",
            "remote: Total 66 (delta 0), reused 0 (delta 0), pack-reused 63\u001b[K\n",
            "Unpacking objects: 100% (66/66), done.\n"
          ]
        }
      ],
      "source": [
        "!git clone https://github.com/jessicalsp/perfilagem_ML.git"
      ]
    },
    {
      "cell_type": "code",
      "source": [
        "!git clone https://github.com/jessicalsp/testes_ML2.git"
      ],
      "metadata": {
        "id": "BMLoSfQBIAMB",
        "colab": {
          "base_uri": "https://localhost:8080/"
        },
        "outputId": "335bec5d-e680-4b38-eec8-cd7ceaa79dc4"
      },
      "execution_count": 1,
      "outputs": [
        {
          "output_type": "stream",
          "name": "stdout",
          "text": [
            "Cloning into 'testes_ML2'...\n",
            "remote: Enumerating objects: 9, done.\u001b[K\n",
            "remote: Counting objects: 100% (9/9), done.\u001b[K\n",
            "remote: Compressing objects: 100% (7/7), done.\u001b[K\n",
            "remote: Total 9 (delta 1), reused 0 (delta 0), pack-reused 0\u001b[K\n",
            "Unpacking objects: 100% (9/9), done.\n"
          ]
        }
      ]
    },
    {
      "cell_type": "code",
      "source": [
        "import pandas as pd\n",
        "import numpy as np\n",
        "import matplotlib.pyplot as plt\n",
        "from random import randint\n",
        "from math import pi as PI\n",
        "from sklearn.metrics import mean_squared_error\n",
        "from sklearn.model_selection import train_test_split\n",
        "from sklearn.utils import shuffle\n",
        "from sklearn.metrics import r2_score\n",
        "\n",
        "from google.colab import drive\n",
        "\n",
        "plt.style.use('ggplot')"
      ],
      "metadata": {
        "id": "YU4H8AkXG3UP"
      },
      "execution_count": 170,
      "outputs": []
    },
    {
      "cell_type": "code",
      "source": [
        "data1 = pd.read_csv('perfilagem_ML/mod_1d40d160d.csv')\n",
        "data2 = pd.read_csv('perfilagem_ML/mod_1d40d200d.csv')\n",
        "data3 = pd.read_csv('perfilagem_ML/mod_1d40d240d.csv')\n",
        "data4 = pd.read_csv('perfilagem_ML/mod_1d50d160d.csv')\n",
        "data5 = pd.read_csv('perfilagem_ML/mod_orig.csv')\n",
        "data6 = pd.read_csv('perfilagem_ML/mod_1d50d240d.csv')\n",
        "data7 = pd.read_csv('perfilagem_ML/mod_1d60d160d.csv')\n",
        "data8 = pd.read_csv('perfilagem_ML/mod_1d60d200d.csv')\n",
        "data9 = pd.read_csv('perfilagem_ML/mod_1d60d240d.csv')\n",
        "\n",
        "data10 = pd.read_csv('perfilagem_ML/mod_08d40d160d.csv')\n",
        "data11 = pd.read_csv('perfilagem_ML/mod_08d40d200d.csv')\n",
        "data12 = pd.read_csv('perfilagem_ML/mod_08d40d240d.csv')\n",
        "data13 = pd.read_csv('perfilagem_ML/mod_08d50d160d.csv')\n",
        "data14 = pd.read_csv('perfilagem_ML/mod_08d50d200d.csv')\n",
        "data15 = pd.read_csv('perfilagem_ML/mod_08d50d240d.csv')\n",
        "data16 = pd.read_csv('perfilagem_ML/mod_08d60d160d.csv')\n",
        "data17 = pd.read_csv('perfilagem_ML/mod_08d60d200d.csv')\n",
        "data18 = pd.read_csv('perfilagem_ML/mod_08d60d240d.csv')\n",
        "\n",
        "data19 = pd.read_csv('perfilagem_ML/mod_12d40d160d.csv')\n",
        "data20 = pd.read_csv('perfilagem_ML/mod_12d40d200d.csv')\n",
        "data21 = pd.read_csv('perfilagem_ML/mod_12d40d240d.csv')\n",
        "data22 = pd.read_csv('perfilagem_ML/mod_12d50d160d.csv')\n",
        "data23 = pd.read_csv('perfilagem_ML/mod_12d50d200d.csv')\n",
        "data24 = pd.read_csv('perfilagem_ML/mod_12d50d240d.csv')\n",
        "data25 = pd.read_csv('perfilagem_ML/mod_12d60d160d.csv')\n",
        "data26 = pd.read_csv('perfilagem_ML/mod_12d60d200d.csv')\n",
        "data27 = pd.read_csv('perfilagem_ML/mod_12d60d240d.csv')"
      ],
      "metadata": {
        "id": "dO21wwb7G4Oq"
      },
      "execution_count": 171,
      "outputs": []
    },
    {
      "cell_type": "code",
      "source": [
        "data19"
      ],
      "metadata": {
        "id": "nE7CIWoYHbPp"
      },
      "execution_count": null,
      "outputs": []
    },
    {
      "cell_type": "code",
      "source": [
        "# Definendo colunas de Feature\n",
        "x_data1 = data1.iloc[:,[0,1,2]].values \n",
        "x_data2 = data2.iloc[:,[0,1,2]].values \n",
        "x_data3 = data3.iloc[:,[0,1,2]].values \n",
        "x_data4 = data4.iloc[:,[0,1,2]].values \n",
        "x_data5 = data5.iloc[:,[0,1,2]].values \n",
        "x_data6 = data6.iloc[:,[0,1,2]].values \n",
        "x_data7 = data7.iloc[:,[0,1,2]].values \n",
        "x_data8 = data8.iloc[:,[0,1,2]].values \n",
        "x_data9 = data9.iloc[:,[0,1,2]].values \n",
        "x_data10 = data10.iloc[:,[0,1,2]].values \n",
        "x_data11 = data11.iloc[:,[0,1,2]].values \n",
        "x_data12 = data12.iloc[:,[0,1,2]].values \n",
        "x_data13 = data13.iloc[:,[0,1,2]].values \n",
        "x_data14 = data14.iloc[:,[0,1,2]].values \n",
        "x_data15 = data15.iloc[:,[0,1,2]].values \n",
        "x_data16 = data16.iloc[:,[0,1,2]].values \n",
        "x_data17 = data17.iloc[:,[0,1,2]].values \n",
        "x_data18 = data18.iloc[:,[0,1,2]].values \n",
        "x_data19 = data19.iloc[:,[0,1,2]].values \n",
        "x_data20 = data20.iloc[:,[0,1,2]].values \n",
        "x_data21 = data21.iloc[:,[0,1,2]].values \n",
        "x_data22 = data22.iloc[:,[0,1,2]].values \n",
        "x_data23 = data23.iloc[:,[0,1,2]].values \n",
        "x_data24 = data24.iloc[:,[0,1,2]].values \n",
        "x_data25 = data25.iloc[:,[0,1,2]].values \n",
        "x_data26 = data26.iloc[:,[0,1,2]].values \n",
        "x_data27 = data27.iloc[:,[0,1,2]].values "
      ],
      "metadata": {
        "id": "r-qqkiA-l8hx"
      },
      "execution_count": 172,
      "outputs": []
    },
    {
      "cell_type": "code",
      "source": [
        "# Definenco colunas de Target\n",
        "y_data1 = data1.iloc[:,[3]].values \n",
        "y_data2 = data2.iloc[:,[3]].values \n",
        "y_data3 = data3.iloc[:,[3]].values \n",
        "y_data4 = data4.iloc[:,[3]].values \n",
        "y_data5 = data5.iloc[:,[3]].values \n",
        "y_data6 = data6.iloc[:,[3]].values \n",
        "y_data7 = data7.iloc[:,[3]].values \n",
        "y_data8 = data8.iloc[:,[3]].values \n",
        "y_data9 = data9.iloc[:,[3]].values \n",
        "y_data10 = data10.iloc[:,[3]].values \n",
        "y_data11 = data11.iloc[:,[3]].values \n",
        "y_data12 = data12.iloc[:,[3]].values \n",
        "y_data13 = data13.iloc[:,[3]].values \n",
        "y_data14 = data14.iloc[:,[3]].values \n",
        "y_data15 = data15.iloc[:,[3]].values \n",
        "y_data16 = data16.iloc[:,[3]].values \n",
        "y_data17 = data17.iloc[:,[3]].values \n",
        "y_data18 = data18.iloc[:,[3]].values \n",
        "y_data19 = data19.iloc[:,[3]].values \n",
        "y_data20 = data20.iloc[:,[3]].values \n",
        "y_data21 = data21.iloc[:,[3]].values \n",
        "y_data22 = data22.iloc[:,[3]].values \n",
        "y_data23 = data23.iloc[:,[3]].values \n",
        "y_data24 = data24.iloc[:,[3]].values \n",
        "y_data25 = data25.iloc[:,[3]].values \n",
        "y_data26 = data26.iloc[:,[3]].values \n",
        "y_data27 = data27.iloc[:,[3]].values "
      ],
      "metadata": {
        "id": "LEuv8noAmNry"
      },
      "execution_count": 173,
      "outputs": []
    },
    {
      "cell_type": "code",
      "source": [
        "x_data1"
      ],
      "metadata": {
        "id": "PJJorV3_mDoA"
      },
      "execution_count": null,
      "outputs": []
    },
    {
      "cell_type": "code",
      "source": [
        "x_data_conca = np.concatenate((x_data1, x_data2, x_data3, x_data4, x_data5, x_data6, x_data7, x_data8, x_data9, x_data10, x_data11, x_data12, x_data13, x_data14, x_data15, x_data16, x_data17, x_data18, x_data19, x_data20, x_data21, x_data22, x_data23, x_data24, x_data25, x_data26, x_data27), axis = 0) "
      ],
      "metadata": {
        "id": "882iQiX7jh3E"
      },
      "execution_count": 175,
      "outputs": []
    },
    {
      "cell_type": "code",
      "source": [
        "x_data_conca"
      ],
      "metadata": {
        "id": "OQwEPDGZlMOt"
      },
      "execution_count": null,
      "outputs": []
    },
    {
      "cell_type": "code",
      "source": [
        "x_data_conca.shape"
      ],
      "metadata": {
        "id": "o4jnnKrUkJfG"
      },
      "execution_count": null,
      "outputs": []
    },
    {
      "cell_type": "code",
      "source": [
        "y_data_conca = np.concatenate((y_data1, y_data2, y_data3, y_data4, y_data5, y_data6, y_data7, y_data8, y_data9, y_data10, y_data11, y_data12, y_data13, y_data14, y_data15, y_data16, y_data17, y_data18, y_data19, y_data20, y_data21, y_data22, y_data23, y_data24, y_data25, y_data26, y_data27), axis = 0) "
      ],
      "metadata": {
        "id": "CVbcqu0wnsfw"
      },
      "execution_count": 176,
      "outputs": []
    },
    {
      "cell_type": "code",
      "source": [
        "y_data_conca\n"
      ],
      "metadata": {
        "id": "8yblx1AMkfVd"
      },
      "execution_count": null,
      "outputs": []
    },
    {
      "cell_type": "code",
      "source": [
        "np.random.seed(45)"
      ],
      "metadata": {
        "id": "a5q5NGMjllP8"
      },
      "execution_count": 177,
      "outputs": []
    },
    {
      "cell_type": "code",
      "source": [
        "# Separando uma porcentagem para validação\n",
        "# 20% validação, 70% treinamento\n",
        "\n",
        "x_train, x_valid, y_train, y_valid = train_test_split(x_data_conca, y_data_conca, test_size=0.2)"
      ],
      "metadata": {
        "id": "3MYCTBzaoW3h"
      },
      "execution_count": 178,
      "outputs": []
    },
    {
      "cell_type": "code",
      "source": [
        "#x_train = shuffle(x_train)"
      ],
      "metadata": {
        "id": "Kkn7_2-RorjY"
      },
      "execution_count": 179,
      "outputs": []
    },
    {
      "cell_type": "code",
      "source": [
        "x_train.shape"
      ],
      "metadata": {
        "id": "8qhk38HKFI27"
      },
      "execution_count": null,
      "outputs": []
    },
    {
      "cell_type": "markdown",
      "source": [
        "TESTE"
      ],
      "metadata": {
        "id": "FK8zPjvYGXV2"
      }
    },
    {
      "cell_type": "code",
      "source": [
        "data_teste = pd.read_csv('testes_ML2/mod_teste2.csv')\n",
        "\n",
        "x_teste = data_teste.iloc[:,[0,1,2]].values \n",
        "y_teste = data_teste.iloc[:,[3]].values \n"
      ],
      "metadata": {
        "id": "iRZzZGMTGQxb"
      },
      "execution_count": 180,
      "outputs": []
    },
    {
      "cell_type": "code",
      "source": [
        "y_teste"
      ],
      "metadata": {
        "id": "RvHiG6STKzCS"
      },
      "execution_count": null,
      "outputs": []
    },
    {
      "cell_type": "markdown",
      "source": [
        "Rede Neural"
      ],
      "metadata": {
        "id": "JPVaF0Gf6gCY"
      }
    },
    {
      "cell_type": "code",
      "source": [
        "import tensorflow as tf\n",
        "from tensorflow import keras\n",
        "#from sklearn.model_selection import GridSearchCV\n",
        "from keras.models import Sequential\n",
        "from keras.layers import Activation, Dense, Conv1D, MaxPooling1D, Flatten, Dropout\n",
        "from keras.optimizers import Adam\n",
        "from keras.metrics import mean_squared_error, mean_absolute_percentage_error, categorical_crossentropy\n"
      ],
      "metadata": {
        "id": "m1Psk2Qiovmj"
      },
      "execution_count": 181,
      "outputs": []
    },
    {
      "cell_type": "code",
      "source": [
        "# Criando o modelo de Redes Neurais \n",
        "model = Sequential()\n",
        "model.add(Dense(32, input_shape=(3,), activation='relu'))\n",
        "model.add(Dense(30, activation='relu'))\n",
        "model.add(Dense(30, activation='relu'))\n",
        "model.add(Dense(30, activation='relu'))\n",
        "model.add(Dense(30, activation='relu'))\n",
        "model.add(Dense(30, activation='relu'))\n",
        "model.add(Dense(1))"
      ],
      "metadata": {
        "id": "C1hN2_tto2Zc"
      },
      "execution_count": 182,
      "outputs": []
    },
    {
      "cell_type": "code",
      "source": [
        "model.compile(optimizer=Adam(learning_rate=0.0001), loss='mean_squared_error', metrics=['mse'])"
      ],
      "metadata": {
        "id": "ioOVXeF-o-pR"
      },
      "execution_count": 183,
      "outputs": []
    },
    {
      "cell_type": "code",
      "source": [
        "model.fit(x=x_train, y=y_train, validation_split=0.1, batch_size=70, shuffle= True, epochs=150, verbose=1)"
      ],
      "metadata": {
        "colab": {
          "base_uri": "https://localhost:8080/"
        },
        "id": "rZWwx_KKpBcu",
        "outputId": "e1daf89f-d107-445c-c872-04e330778f11"
      },
      "execution_count": 184,
      "outputs": [
        {
          "output_type": "stream",
          "name": "stdout",
          "text": [
            "Epoch 1/150\n",
            "65/65 [==============================] - 1s 5ms/step - loss: 14682.2441 - mse: 14682.2441 - val_loss: 14460.1865 - val_mse: 14460.1865\n",
            "Epoch 2/150\n",
            "65/65 [==============================] - 0s 2ms/step - loss: 14611.9424 - mse: 14611.9424 - val_loss: 14368.2734 - val_mse: 14368.2734\n",
            "Epoch 3/150\n",
            "65/65 [==============================] - 0s 3ms/step - loss: 14474.4219 - mse: 14474.4219 - val_loss: 14133.7031 - val_mse: 14133.7031\n",
            "Epoch 4/150\n",
            "65/65 [==============================] - 0s 3ms/step - loss: 14089.4600 - mse: 14089.4600 - val_loss: 13483.2012 - val_mse: 13483.2012\n",
            "Epoch 5/150\n",
            "65/65 [==============================] - 0s 3ms/step - loss: 13149.9209 - mse: 13149.9209 - val_loss: 12122.1992 - val_mse: 12122.1992\n",
            "Epoch 6/150\n",
            "65/65 [==============================] - 0s 3ms/step - loss: 11673.7705 - mse: 11673.7705 - val_loss: 10680.4229 - val_mse: 10680.4229\n",
            "Epoch 7/150\n",
            "65/65 [==============================] - 0s 3ms/step - loss: 10928.8467 - mse: 10928.8467 - val_loss: 10412.4346 - val_mse: 10412.4346\n",
            "Epoch 8/150\n",
            "65/65 [==============================] - 0s 3ms/step - loss: 10811.3037 - mse: 10811.3037 - val_loss: 10336.4023 - val_mse: 10336.4023\n",
            "Epoch 9/150\n",
            "65/65 [==============================] - 0s 3ms/step - loss: 10739.8369 - mse: 10739.8369 - val_loss: 10264.7285 - val_mse: 10264.7285\n",
            "Epoch 10/150\n",
            "65/65 [==============================] - 0s 3ms/step - loss: 10662.7715 - mse: 10662.7715 - val_loss: 10189.3145 - val_mse: 10189.3145\n",
            "Epoch 11/150\n",
            "65/65 [==============================] - 0s 3ms/step - loss: 10571.5176 - mse: 10571.5176 - val_loss: 10087.7041 - val_mse: 10087.7041\n",
            "Epoch 12/150\n",
            "65/65 [==============================] - 0s 3ms/step - loss: 10464.4336 - mse: 10464.4336 - val_loss: 9986.6104 - val_mse: 9986.6104\n",
            "Epoch 13/150\n",
            "65/65 [==============================] - 0s 3ms/step - loss: 10346.0557 - mse: 10346.0557 - val_loss: 9862.1094 - val_mse: 9862.1094\n",
            "Epoch 14/150\n",
            "65/65 [==============================] - 0s 2ms/step - loss: 10208.1748 - mse: 10208.1748 - val_loss: 9719.9189 - val_mse: 9719.9189\n",
            "Epoch 15/150\n",
            "65/65 [==============================] - 0s 3ms/step - loss: 10041.1006 - mse: 10041.1006 - val_loss: 9537.4473 - val_mse: 9537.4473\n",
            "Epoch 16/150\n",
            "65/65 [==============================] - 0s 3ms/step - loss: 9822.8721 - mse: 9822.8721 - val_loss: 9299.8750 - val_mse: 9299.8750\n",
            "Epoch 17/150\n",
            "65/65 [==============================] - 0s 3ms/step - loss: 9527.9102 - mse: 9527.9102 - val_loss: 8971.6152 - val_mse: 8971.6152\n",
            "Epoch 18/150\n",
            "65/65 [==============================] - 0s 2ms/step - loss: 9114.7539 - mse: 9114.7539 - val_loss: 8483.3223 - val_mse: 8483.3232\n",
            "Epoch 19/150\n",
            "65/65 [==============================] - 0s 2ms/step - loss: 8438.0859 - mse: 8438.0859 - val_loss: 7681.5015 - val_mse: 7681.5015\n",
            "Epoch 20/150\n",
            "65/65 [==============================] - 0s 3ms/step - loss: 7397.7427 - mse: 7397.7427 - val_loss: 6493.5444 - val_mse: 6493.5444\n",
            "Epoch 21/150\n",
            "65/65 [==============================] - 0s 2ms/step - loss: 5908.3618 - mse: 5908.3618 - val_loss: 4842.5117 - val_mse: 4842.5117\n",
            "Epoch 22/150\n",
            "65/65 [==============================] - 0s 3ms/step - loss: 4196.5615 - mse: 4196.5615 - val_loss: 3399.7383 - val_mse: 3399.7383\n",
            "Epoch 23/150\n",
            "65/65 [==============================] - 0s 3ms/step - loss: 2948.0796 - mse: 2948.0796 - val_loss: 2496.7122 - val_mse: 2496.7122\n",
            "Epoch 24/150\n",
            "65/65 [==============================] - 0s 2ms/step - loss: 2298.7478 - mse: 2298.7478 - val_loss: 2158.2129 - val_mse: 2158.2129\n",
            "Epoch 25/150\n",
            "65/65 [==============================] - 0s 2ms/step - loss: 2049.2612 - mse: 2049.2612 - val_loss: 1992.5610 - val_mse: 1992.5610\n",
            "Epoch 26/150\n",
            "65/65 [==============================] - 0s 3ms/step - loss: 1922.3369 - mse: 1922.3369 - val_loss: 1931.7991 - val_mse: 1931.7991\n",
            "Epoch 27/150\n",
            "65/65 [==============================] - 0s 3ms/step - loss: 1851.3993 - mse: 1851.3993 - val_loss: 1848.0326 - val_mse: 1848.0326\n",
            "Epoch 28/150\n",
            "65/65 [==============================] - 0s 2ms/step - loss: 1798.6947 - mse: 1798.6947 - val_loss: 1810.0941 - val_mse: 1810.0941\n",
            "Epoch 29/150\n",
            "65/65 [==============================] - 0s 2ms/step - loss: 1755.8058 - mse: 1755.8058 - val_loss: 1764.7971 - val_mse: 1764.7971\n",
            "Epoch 30/150\n",
            "65/65 [==============================] - 0s 3ms/step - loss: 1718.6326 - mse: 1718.6326 - val_loss: 1735.8923 - val_mse: 1735.8923\n",
            "Epoch 31/150\n",
            "65/65 [==============================] - 0s 3ms/step - loss: 1695.1785 - mse: 1695.1785 - val_loss: 1750.6799 - val_mse: 1750.6799\n",
            "Epoch 32/150\n",
            "65/65 [==============================] - 0s 3ms/step - loss: 1656.6124 - mse: 1656.6125 - val_loss: 1694.8645 - val_mse: 1694.8645\n",
            "Epoch 33/150\n",
            "65/65 [==============================] - 0s 3ms/step - loss: 1633.3553 - mse: 1633.3553 - val_loss: 1644.2462 - val_mse: 1644.2462\n",
            "Epoch 34/150\n",
            "65/65 [==============================] - 0s 2ms/step - loss: 1606.3828 - mse: 1606.3828 - val_loss: 1701.9994 - val_mse: 1701.9994\n",
            "Epoch 35/150\n",
            "65/65 [==============================] - 0s 3ms/step - loss: 1571.3319 - mse: 1571.3319 - val_loss: 1638.9312 - val_mse: 1638.9312\n",
            "Epoch 36/150\n",
            "65/65 [==============================] - 0s 3ms/step - loss: 1549.4806 - mse: 1549.4806 - val_loss: 1571.7944 - val_mse: 1571.7944\n",
            "Epoch 37/150\n",
            "65/65 [==============================] - 0s 3ms/step - loss: 1518.6062 - mse: 1518.6062 - val_loss: 1564.4929 - val_mse: 1564.4929\n",
            "Epoch 38/150\n",
            "65/65 [==============================] - 0s 3ms/step - loss: 1493.2441 - mse: 1493.2441 - val_loss: 1537.3800 - val_mse: 1537.3800\n",
            "Epoch 39/150\n",
            "65/65 [==============================] - 0s 3ms/step - loss: 1466.5156 - mse: 1466.5156 - val_loss: 1494.6948 - val_mse: 1494.6948\n",
            "Epoch 40/150\n",
            "65/65 [==============================] - 0s 3ms/step - loss: 1446.5367 - mse: 1446.5367 - val_loss: 1498.9332 - val_mse: 1498.9332\n",
            "Epoch 41/150\n",
            "65/65 [==============================] - 0s 3ms/step - loss: 1418.3623 - mse: 1418.3623 - val_loss: 1456.0820 - val_mse: 1456.0820\n",
            "Epoch 42/150\n",
            "65/65 [==============================] - 0s 2ms/step - loss: 1394.4468 - mse: 1394.4469 - val_loss: 1487.1682 - val_mse: 1487.1682\n",
            "Epoch 43/150\n",
            "65/65 [==============================] - 0s 3ms/step - loss: 1377.4946 - mse: 1377.4946 - val_loss: 1440.3262 - val_mse: 1440.3260\n",
            "Epoch 44/150\n",
            "65/65 [==============================] - 0s 3ms/step - loss: 1348.0150 - mse: 1348.0150 - val_loss: 1431.6842 - val_mse: 1431.6843\n",
            "Epoch 45/150\n",
            "65/65 [==============================] - 0s 2ms/step - loss: 1326.1713 - mse: 1326.1713 - val_loss: 1377.9054 - val_mse: 1377.9054\n",
            "Epoch 46/150\n",
            "65/65 [==============================] - 0s 2ms/step - loss: 1309.4795 - mse: 1309.4795 - val_loss: 1366.5720 - val_mse: 1366.5720\n",
            "Epoch 47/150\n",
            "65/65 [==============================] - 0s 3ms/step - loss: 1283.2457 - mse: 1283.2457 - val_loss: 1332.7032 - val_mse: 1332.7032\n",
            "Epoch 48/150\n",
            "65/65 [==============================] - 0s 2ms/step - loss: 1258.5237 - mse: 1258.5237 - val_loss: 1357.5776 - val_mse: 1357.5776\n",
            "Epoch 49/150\n",
            "65/65 [==============================] - 0s 3ms/step - loss: 1241.6819 - mse: 1241.6819 - val_loss: 1297.7141 - val_mse: 1297.7141\n",
            "Epoch 50/150\n",
            "65/65 [==============================] - 0s 2ms/step - loss: 1217.6726 - mse: 1217.6726 - val_loss: 1283.7220 - val_mse: 1283.7220\n",
            "Epoch 51/150\n",
            "65/65 [==============================] - 0s 3ms/step - loss: 1200.2216 - mse: 1200.2216 - val_loss: 1287.6132 - val_mse: 1287.6132\n",
            "Epoch 52/150\n",
            "65/65 [==============================] - 0s 3ms/step - loss: 1180.7593 - mse: 1180.7593 - val_loss: 1251.0465 - val_mse: 1251.0465\n",
            "Epoch 53/150\n",
            "65/65 [==============================] - 0s 3ms/step - loss: 1163.2867 - mse: 1163.2866 - val_loss: 1195.4139 - val_mse: 1195.4139\n",
            "Epoch 54/150\n",
            "65/65 [==============================] - 0s 3ms/step - loss: 1137.8870 - mse: 1137.8870 - val_loss: 1170.5732 - val_mse: 1170.5732\n",
            "Epoch 55/150\n",
            "65/65 [==============================] - 0s 2ms/step - loss: 1128.2561 - mse: 1128.2561 - val_loss: 1167.6907 - val_mse: 1167.6907\n",
            "Epoch 56/150\n",
            "65/65 [==============================] - 0s 3ms/step - loss: 1105.0052 - mse: 1105.0052 - val_loss: 1136.0192 - val_mse: 1136.0192\n",
            "Epoch 57/150\n",
            "65/65 [==============================] - 0s 3ms/step - loss: 1083.5596 - mse: 1083.5596 - val_loss: 1137.0110 - val_mse: 1137.0110\n",
            "Epoch 58/150\n",
            "65/65 [==============================] - 0s 3ms/step - loss: 1062.9371 - mse: 1062.9371 - val_loss: 1101.3560 - val_mse: 1101.3560\n",
            "Epoch 59/150\n",
            "65/65 [==============================] - 0s 2ms/step - loss: 1043.8005 - mse: 1043.8005 - val_loss: 1125.7391 - val_mse: 1125.7391\n",
            "Epoch 60/150\n",
            "65/65 [==============================] - 0s 3ms/step - loss: 1025.3917 - mse: 1025.3917 - val_loss: 1052.2212 - val_mse: 1052.2212\n",
            "Epoch 61/150\n",
            "65/65 [==============================] - 0s 3ms/step - loss: 1009.0993 - mse: 1009.0993 - val_loss: 1080.4701 - val_mse: 1080.4701\n",
            "Epoch 62/150\n",
            "65/65 [==============================] - 0s 3ms/step - loss: 1001.7286 - mse: 1001.7286 - val_loss: 1062.0605 - val_mse: 1062.0605\n",
            "Epoch 63/150\n",
            "65/65 [==============================] - 0s 3ms/step - loss: 983.3401 - mse: 983.3401 - val_loss: 1032.8396 - val_mse: 1032.8396\n",
            "Epoch 64/150\n",
            "65/65 [==============================] - 0s 3ms/step - loss: 970.5209 - mse: 970.5209 - val_loss: 1050.4335 - val_mse: 1050.4335\n",
            "Epoch 65/150\n",
            "65/65 [==============================] - 0s 3ms/step - loss: 963.9243 - mse: 963.9243 - val_loss: 989.6873 - val_mse: 989.6873\n",
            "Epoch 66/150\n",
            "65/65 [==============================] - 0s 3ms/step - loss: 950.7736 - mse: 950.7736 - val_loss: 1004.4351 - val_mse: 1004.4351\n",
            "Epoch 67/150\n",
            "65/65 [==============================] - 0s 2ms/step - loss: 948.9174 - mse: 948.9174 - val_loss: 1005.5944 - val_mse: 1005.5944\n",
            "Epoch 68/150\n",
            "65/65 [==============================] - 0s 3ms/step - loss: 935.4670 - mse: 935.4669 - val_loss: 982.0018 - val_mse: 982.0018\n",
            "Epoch 69/150\n",
            "65/65 [==============================] - 0s 2ms/step - loss: 922.9285 - mse: 922.9285 - val_loss: 959.3997 - val_mse: 959.3997\n",
            "Epoch 70/150\n",
            "65/65 [==============================] - 0s 3ms/step - loss: 914.3331 - mse: 914.3331 - val_loss: 981.5165 - val_mse: 981.5165\n",
            "Epoch 71/150\n",
            "65/65 [==============================] - 0s 3ms/step - loss: 908.1175 - mse: 908.1175 - val_loss: 923.2609 - val_mse: 923.2609\n",
            "Epoch 72/150\n",
            "65/65 [==============================] - 0s 3ms/step - loss: 893.1514 - mse: 893.1514 - val_loss: 919.4119 - val_mse: 919.4119\n",
            "Epoch 73/150\n",
            "65/65 [==============================] - 0s 3ms/step - loss: 887.5250 - mse: 887.5250 - val_loss: 927.4650 - val_mse: 927.4650\n",
            "Epoch 74/150\n",
            "65/65 [==============================] - 0s 2ms/step - loss: 883.5146 - mse: 883.5146 - val_loss: 909.4966 - val_mse: 909.4966\n",
            "Epoch 75/150\n",
            "65/65 [==============================] - 0s 3ms/step - loss: 878.0159 - mse: 878.0159 - val_loss: 884.7878 - val_mse: 884.7878\n",
            "Epoch 76/150\n",
            "65/65 [==============================] - 0s 3ms/step - loss: 867.1794 - mse: 867.1794 - val_loss: 901.4402 - val_mse: 901.4402\n",
            "Epoch 77/150\n",
            "65/65 [==============================] - 0s 3ms/step - loss: 863.3668 - mse: 863.3668 - val_loss: 880.1258 - val_mse: 880.1258\n",
            "Epoch 78/150\n",
            "65/65 [==============================] - 0s 2ms/step - loss: 849.2556 - mse: 849.2556 - val_loss: 863.2230 - val_mse: 863.2230\n",
            "Epoch 79/150\n",
            "65/65 [==============================] - 0s 3ms/step - loss: 849.4688 - mse: 849.4687 - val_loss: 860.1072 - val_mse: 860.1072\n",
            "Epoch 80/150\n",
            "65/65 [==============================] - 0s 2ms/step - loss: 842.1735 - mse: 842.1733 - val_loss: 859.7335 - val_mse: 859.7335\n",
            "Epoch 81/150\n",
            "65/65 [==============================] - 0s 2ms/step - loss: 829.0374 - mse: 829.0374 - val_loss: 833.5340 - val_mse: 833.5340\n",
            "Epoch 82/150\n",
            "65/65 [==============================] - 0s 3ms/step - loss: 821.5225 - mse: 821.5225 - val_loss: 868.3940 - val_mse: 868.3940\n",
            "Epoch 83/150\n",
            "65/65 [==============================] - 0s 2ms/step - loss: 817.8820 - mse: 817.8820 - val_loss: 824.8589 - val_mse: 824.8589\n",
            "Epoch 84/150\n",
            "65/65 [==============================] - 0s 3ms/step - loss: 824.4726 - mse: 824.4726 - val_loss: 821.1501 - val_mse: 821.1501\n",
            "Epoch 85/150\n",
            "65/65 [==============================] - 0s 2ms/step - loss: 808.4211 - mse: 808.4211 - val_loss: 807.0106 - val_mse: 807.0106\n",
            "Epoch 86/150\n",
            "65/65 [==============================] - 0s 3ms/step - loss: 798.2888 - mse: 798.2888 - val_loss: 801.6147 - val_mse: 801.6147\n",
            "Epoch 87/150\n",
            "65/65 [==============================] - 0s 2ms/step - loss: 798.7393 - mse: 798.7393 - val_loss: 789.6863 - val_mse: 789.6863\n",
            "Epoch 88/150\n",
            "65/65 [==============================] - 0s 3ms/step - loss: 792.9232 - mse: 792.9232 - val_loss: 780.6409 - val_mse: 780.6409\n",
            "Epoch 89/150\n",
            "65/65 [==============================] - 0s 3ms/step - loss: 781.6037 - mse: 781.6037 - val_loss: 798.6661 - val_mse: 798.6661\n",
            "Epoch 90/150\n",
            "65/65 [==============================] - 0s 2ms/step - loss: 783.7889 - mse: 783.7889 - val_loss: 773.9359 - val_mse: 773.9359\n",
            "Epoch 91/150\n",
            "65/65 [==============================] - 0s 3ms/step - loss: 764.3774 - mse: 764.3774 - val_loss: 788.5233 - val_mse: 788.5233\n",
            "Epoch 92/150\n",
            "65/65 [==============================] - 0s 2ms/step - loss: 765.2144 - mse: 765.2144 - val_loss: 753.7979 - val_mse: 753.7979\n",
            "Epoch 93/150\n",
            "65/65 [==============================] - 0s 3ms/step - loss: 763.3028 - mse: 763.3028 - val_loss: 748.2238 - val_mse: 748.2238\n",
            "Epoch 94/150\n",
            "65/65 [==============================] - 0s 2ms/step - loss: 751.3423 - mse: 751.3423 - val_loss: 775.6390 - val_mse: 775.6390\n",
            "Epoch 95/150\n",
            "65/65 [==============================] - 0s 3ms/step - loss: 758.3570 - mse: 758.3570 - val_loss: 764.8682 - val_mse: 764.8682\n",
            "Epoch 96/150\n",
            "65/65 [==============================] - 0s 3ms/step - loss: 745.0240 - mse: 745.0240 - val_loss: 731.2173 - val_mse: 731.2173\n",
            "Epoch 97/150\n",
            "65/65 [==============================] - 0s 2ms/step - loss: 740.1102 - mse: 740.1102 - val_loss: 717.3152 - val_mse: 717.3152\n",
            "Epoch 98/150\n",
            "65/65 [==============================] - 0s 3ms/step - loss: 736.1856 - mse: 736.1856 - val_loss: 724.5696 - val_mse: 724.5696\n",
            "Epoch 99/150\n",
            "65/65 [==============================] - 0s 3ms/step - loss: 731.6404 - mse: 731.6404 - val_loss: 708.4389 - val_mse: 708.4389\n",
            "Epoch 100/150\n",
            "65/65 [==============================] - 0s 2ms/step - loss: 722.6133 - mse: 722.6134 - val_loss: 705.9527 - val_mse: 705.9527\n",
            "Epoch 101/150\n",
            "65/65 [==============================] - 0s 3ms/step - loss: 717.2283 - mse: 717.2283 - val_loss: 717.4176 - val_mse: 717.4176\n",
            "Epoch 102/150\n",
            "65/65 [==============================] - 0s 2ms/step - loss: 716.6483 - mse: 716.6483 - val_loss: 712.6406 - val_mse: 712.6405\n",
            "Epoch 103/150\n",
            "65/65 [==============================] - 0s 3ms/step - loss: 705.8809 - mse: 705.8809 - val_loss: 686.6650 - val_mse: 686.6650\n",
            "Epoch 104/150\n",
            "65/65 [==============================] - 0s 2ms/step - loss: 707.1964 - mse: 707.1964 - val_loss: 679.6287 - val_mse: 679.6287\n",
            "Epoch 105/150\n",
            "65/65 [==============================] - 0s 3ms/step - loss: 701.7169 - mse: 701.7169 - val_loss: 670.9640 - val_mse: 670.9639\n",
            "Epoch 106/150\n",
            "65/65 [==============================] - 0s 2ms/step - loss: 696.1599 - mse: 696.1599 - val_loss: 664.0374 - val_mse: 664.0374\n",
            "Epoch 107/150\n",
            "65/65 [==============================] - 0s 3ms/step - loss: 690.1005 - mse: 690.1005 - val_loss: 672.4824 - val_mse: 672.4824\n",
            "Epoch 108/150\n",
            "65/65 [==============================] - 0s 3ms/step - loss: 685.1247 - mse: 685.1247 - val_loss: 667.3186 - val_mse: 667.3185\n",
            "Epoch 109/150\n",
            "65/65 [==============================] - 0s 3ms/step - loss: 676.2322 - mse: 676.2322 - val_loss: 649.1956 - val_mse: 649.1956\n",
            "Epoch 110/150\n",
            "65/65 [==============================] - 0s 3ms/step - loss: 676.9637 - mse: 676.9637 - val_loss: 659.2282 - val_mse: 659.2281\n",
            "Epoch 111/150\n",
            "65/65 [==============================] - 0s 3ms/step - loss: 678.6054 - mse: 678.6054 - val_loss: 643.7131 - val_mse: 643.7131\n",
            "Epoch 112/150\n",
            "65/65 [==============================] - 0s 3ms/step - loss: 661.1141 - mse: 661.1141 - val_loss: 632.5930 - val_mse: 632.5930\n",
            "Epoch 113/150\n",
            "65/65 [==============================] - 0s 3ms/step - loss: 658.9919 - mse: 658.9919 - val_loss: 634.7446 - val_mse: 634.7446\n",
            "Epoch 114/150\n",
            "65/65 [==============================] - 0s 3ms/step - loss: 655.0237 - mse: 655.0237 - val_loss: 629.0834 - val_mse: 629.0834\n",
            "Epoch 115/150\n",
            "65/65 [==============================] - 0s 2ms/step - loss: 664.7806 - mse: 664.7806 - val_loss: 628.1720 - val_mse: 628.1720\n",
            "Epoch 116/150\n",
            "65/65 [==============================] - 0s 3ms/step - loss: 646.3947 - mse: 646.3947 - val_loss: 612.1345 - val_mse: 612.1345\n",
            "Epoch 117/150\n",
            "65/65 [==============================] - 0s 3ms/step - loss: 642.5054 - mse: 642.5054 - val_loss: 645.8200 - val_mse: 645.8200\n",
            "Epoch 118/150\n",
            "65/65 [==============================] - 0s 3ms/step - loss: 644.8741 - mse: 644.8741 - val_loss: 615.9023 - val_mse: 615.9023\n",
            "Epoch 119/150\n",
            "65/65 [==============================] - 0s 3ms/step - loss: 635.6179 - mse: 635.6179 - val_loss: 634.5591 - val_mse: 634.5590\n",
            "Epoch 120/150\n",
            "65/65 [==============================] - 0s 2ms/step - loss: 631.4485 - mse: 631.4485 - val_loss: 588.7657 - val_mse: 588.7657\n",
            "Epoch 121/150\n",
            "65/65 [==============================] - 0s 3ms/step - loss: 637.1678 - mse: 637.1678 - val_loss: 589.8913 - val_mse: 589.8913\n",
            "Epoch 122/150\n",
            "65/65 [==============================] - 0s 3ms/step - loss: 639.1404 - mse: 639.1404 - val_loss: 578.4689 - val_mse: 578.4689\n",
            "Epoch 123/150\n",
            "65/65 [==============================] - 0s 3ms/step - loss: 627.9064 - mse: 627.9064 - val_loss: 582.0971 - val_mse: 582.0971\n",
            "Epoch 124/150\n",
            "65/65 [==============================] - 0s 3ms/step - loss: 621.9094 - mse: 621.9094 - val_loss: 589.4488 - val_mse: 589.4488\n",
            "Epoch 125/150\n",
            "65/65 [==============================] - 0s 2ms/step - loss: 616.2554 - mse: 616.2554 - val_loss: 602.7498 - val_mse: 602.7498\n",
            "Epoch 126/150\n",
            "65/65 [==============================] - 0s 3ms/step - loss: 609.9553 - mse: 609.9553 - val_loss: 576.8953 - val_mse: 576.8953\n",
            "Epoch 127/150\n",
            "65/65 [==============================] - 0s 3ms/step - loss: 608.7852 - mse: 608.7852 - val_loss: 582.6547 - val_mse: 582.6547\n",
            "Epoch 128/150\n",
            "65/65 [==============================] - 0s 3ms/step - loss: 607.9431 - mse: 607.9431 - val_loss: 565.8232 - val_mse: 565.8232\n",
            "Epoch 129/150\n",
            "65/65 [==============================] - 0s 3ms/step - loss: 612.2878 - mse: 612.2878 - val_loss: 550.0066 - val_mse: 550.0066\n",
            "Epoch 130/150\n",
            "65/65 [==============================] - 0s 3ms/step - loss: 594.5519 - mse: 594.5519 - val_loss: 561.0697 - val_mse: 561.0697\n",
            "Epoch 131/150\n",
            "65/65 [==============================] - 0s 3ms/step - loss: 594.2462 - mse: 594.2462 - val_loss: 544.8394 - val_mse: 544.8394\n",
            "Epoch 132/150\n",
            "65/65 [==============================] - 0s 3ms/step - loss: 597.1641 - mse: 597.1641 - val_loss: 560.4070 - val_mse: 560.4070\n",
            "Epoch 133/150\n",
            "65/65 [==============================] - 0s 3ms/step - loss: 589.2618 - mse: 589.2618 - val_loss: 535.5211 - val_mse: 535.5211\n",
            "Epoch 134/150\n",
            "65/65 [==============================] - 0s 3ms/step - loss: 586.4175 - mse: 586.4175 - val_loss: 528.2020 - val_mse: 528.2020\n",
            "Epoch 135/150\n",
            "65/65 [==============================] - 0s 2ms/step - loss: 587.3623 - mse: 587.3623 - val_loss: 523.3646 - val_mse: 523.3646\n",
            "Epoch 136/150\n",
            "65/65 [==============================] - 0s 3ms/step - loss: 582.0616 - mse: 582.0616 - val_loss: 527.1130 - val_mse: 527.1130\n",
            "Epoch 137/150\n",
            "65/65 [==============================] - 0s 2ms/step - loss: 585.3511 - mse: 585.3511 - val_loss: 534.0821 - val_mse: 534.0821\n",
            "Epoch 138/150\n",
            "65/65 [==============================] - 0s 3ms/step - loss: 577.6404 - mse: 577.6404 - val_loss: 539.2121 - val_mse: 539.2121\n",
            "Epoch 139/150\n",
            "65/65 [==============================] - 0s 3ms/step - loss: 572.7633 - mse: 572.7633 - val_loss: 624.2990 - val_mse: 624.2990\n",
            "Epoch 140/150\n",
            "65/65 [==============================] - 0s 3ms/step - loss: 584.0532 - mse: 584.0532 - val_loss: 525.2001 - val_mse: 525.2001\n",
            "Epoch 141/150\n",
            "65/65 [==============================] - 0s 3ms/step - loss: 584.0261 - mse: 584.0261 - val_loss: 523.3398 - val_mse: 523.3398\n",
            "Epoch 142/150\n",
            "65/65 [==============================] - 0s 3ms/step - loss: 564.4964 - mse: 564.4964 - val_loss: 530.1405 - val_mse: 530.1405\n",
            "Epoch 143/150\n",
            "65/65 [==============================] - 0s 2ms/step - loss: 561.6294 - mse: 561.6294 - val_loss: 496.4747 - val_mse: 496.4747\n",
            "Epoch 144/150\n",
            "65/65 [==============================] - 0s 3ms/step - loss: 564.5679 - mse: 564.5679 - val_loss: 503.2251 - val_mse: 503.2251\n",
            "Epoch 145/150\n",
            "65/65 [==============================] - 0s 3ms/step - loss: 572.4719 - mse: 572.4719 - val_loss: 492.0087 - val_mse: 492.0086\n",
            "Epoch 146/150\n",
            "65/65 [==============================] - 0s 3ms/step - loss: 563.9333 - mse: 563.9333 - val_loss: 530.9903 - val_mse: 530.9903\n",
            "Epoch 147/150\n",
            "65/65 [==============================] - 0s 3ms/step - loss: 554.2332 - mse: 554.2332 - val_loss: 483.7452 - val_mse: 483.7452\n",
            "Epoch 148/150\n",
            "65/65 [==============================] - 0s 2ms/step - loss: 553.5941 - mse: 553.5941 - val_loss: 517.7512 - val_mse: 517.7512\n",
            "Epoch 149/150\n",
            "65/65 [==============================] - 0s 3ms/step - loss: 548.1521 - mse: 548.1521 - val_loss: 486.0916 - val_mse: 486.0916\n",
            "Epoch 150/150\n",
            "65/65 [==============================] - 0s 3ms/step - loss: 557.8719 - mse: 557.8719 - val_loss: 531.6873 - val_mse: 531.6873\n"
          ]
        },
        {
          "output_type": "execute_result",
          "data": {
            "text/plain": [
              "<keras.callbacks.History at 0x7fb44f1034f0>"
            ]
          },
          "metadata": {},
          "execution_count": 184
        }
      ]
    },
    {
      "cell_type": "code",
      "source": [
        "y_pred_teste_NN = model.predict( x=x_teste, batch_size=70, verbose=0 )"
      ],
      "metadata": {
        "id": "roZJAXaCPCpt"
      },
      "execution_count": 185,
      "outputs": []
    },
    {
      "cell_type": "code",
      "source": [
        "r2_score(y_teste, y_pred_teste_NN)"
      ],
      "metadata": {
        "colab": {
          "base_uri": "https://localhost:8080/"
        },
        "id": "pzKfignyPVD1",
        "outputId": "2ad4b8a3-cd39-4d72-b197-c236077a4cf8"
      },
      "execution_count": 186,
      "outputs": [
        {
          "output_type": "execute_result",
          "data": {
            "text/plain": [
              "0.9496876282526979"
            ]
          },
          "metadata": {},
          "execution_count": 186
        }
      ]
    },
    {
      "cell_type": "markdown",
      "source": [
        "KNN"
      ],
      "metadata": {
        "id": "fGPzmtVn6rDY"
      }
    },
    {
      "cell_type": "code",
      "source": [
        "from sklearn.neighbors import KNeighborsRegressor\n",
        "#{'metric': 'manhattan', 'n_neighbors': 55, 'weights': 'distance'}\n",
        "# Grid search: {'metric': 'euclidean', 'n_neighbors': 20, 'weights': 'uniform'}\n",
        "# Grid search novo: {'metric': 'manhattan', 'n_neighbors': 7, 'weights': 'uniform'}\n",
        "## 'metric': 'nan_euclidean', 'n_neighbors': 30, 'weights': 'uniform'}\n",
        "neigh_model = KNeighborsRegressor(n_neighbors=30, weights='uniform', metric='nan_euclidean')\n",
        "neigh_model.fit(x_train, y_train)\n",
        "\n",
        "y_pred_valid_knnr = neigh_model.predict(x_valid) \n",
        "\n",
        "y_pred_teste_knnr = neigh_model.predict(x_teste)\n",
        "\n",
        "##erro relativo\n",
        "\n",
        "er_knnr = (y_pred_teste_knnr - y_teste)/y_teste"
      ],
      "metadata": {
        "id": "99onli6h62K7"
      },
      "execution_count": 187,
      "outputs": []
    },
    {
      "cell_type": "markdown",
      "source": [
        "Adaboost"
      ],
      "metadata": {
        "id": "7e3xgk-p76wv"
      }
    },
    {
      "cell_type": "code",
      "source": [
        "from sklearn.ensemble import AdaBoostRegressor\n",
        "from sklearn.datasets import load_boston\n",
        "from sklearn.model_selection import train_test_split\n",
        "from sklearn.model_selection import cross_val_score\n",
        "from sklearn.metrics import mean_squared_error\n",
        "import matplotlib.pyplot as plt"
      ],
      "metadata": {
        "id": "Idcy6Ayd73OH"
      },
      "execution_count": 188,
      "outputs": []
    },
    {
      "cell_type": "code",
      "source": [
        "from sklearn.datasets import make_regression"
      ],
      "metadata": {
        "id": "Pcvy6Rhe7_uj"
      },
      "execution_count": 189,
      "outputs": []
    },
    {
      "cell_type": "code",
      "source": [
        "ada_reg = AdaBoostRegressor(n_estimators=100)\n",
        "\n",
        "AdaBoostRegressor(base_estimator= 10, learning_rate=1.0, loss='linear', n_estimators=100, random_state=0) \n",
        "ada_reg.fit(x_train, y_train)\n",
        "            \n",
        "y_pred_teste_ada =  ada_reg.predict(x_teste)"
      ],
      "metadata": {
        "colab": {
          "base_uri": "https://localhost:8080/"
        },
        "id": "-7AbeUIq8EOO",
        "outputId": "226b49b9-1906-4920-857c-11e6679da532"
      },
      "execution_count": 190,
      "outputs": [
        {
          "output_type": "stream",
          "name": "stderr",
          "text": [
            "/usr/local/lib/python3.8/dist-packages/sklearn/utils/validation.py:993: DataConversionWarning:\n",
            "\n",
            "A column-vector y was passed when a 1d array was expected. Please change the shape of y to (n_samples, ), for example using ravel().\n",
            "\n"
          ]
        }
      ]
    },
    {
      "cell_type": "markdown",
      "source": [
        "Analisando o erro"
      ],
      "metadata": {
        "id": "ezaC0oN29dF4"
      }
    },
    {
      "cell_type": "code",
      "source": [
        "from sklearn.metrics import mean_absolute_percentage_error\n",
        "from sklearn.metrics import mean_absolute_error\n",
        "from sklearn.metrics import mean_squared_error\n",
        "from sklearn.metrics import r2_score"
      ],
      "metadata": {
        "id": "jcEeh7Pa9fJh"
      },
      "execution_count": 191,
      "outputs": []
    },
    {
      "cell_type": "code",
      "source": [
        "import plotly.graph_objects as go"
      ],
      "metadata": {
        "id": "QrmuECLX9ij1"
      },
      "execution_count": 192,
      "outputs": []
    },
    {
      "cell_type": "code",
      "source": [
        "#Verificando o modelo de predição KNN\n",
        "\n",
        "#Mape\n",
        "mape_knnr = mean_absolute_percentage_error(y_teste, y_pred_teste_knnr)\n",
        "\n",
        "#O erro quadrático médio para o modelo de teste\n",
        "rmse_knnr = mean_squared_error(y_teste, y_pred_teste_knnr, squared= False)\n",
        "\n",
        "# R2\n",
        "r2_knnr = r2_score(y_teste, y_pred_teste_knnr)"
      ],
      "metadata": {
        "id": "pOuu_7ai9l8I"
      },
      "execution_count": 193,
      "outputs": []
    },
    {
      "cell_type": "code",
      "source": [
        "#Verificando o modelo de predição Adaboost\n",
        "\n",
        "#Mape\n",
        "mape_ada = mean_absolute_percentage_error(y_teste, y_pred_teste_ada)\n",
        "\n",
        "#O erro quadrático médio para o modelo de teste\n",
        "rmse_ada = mean_squared_error(y_teste, y_pred_teste_ada, squared= False)\n",
        "\n",
        "# R2\n",
        "r2_ada = r2_score(y_teste, y_pred_teste_ada)"
      ],
      "metadata": {
        "id": "DAy4I7ms914E"
      },
      "execution_count": 194,
      "outputs": []
    },
    {
      "cell_type": "code",
      "source": [
        "#Verificando o modelo de predição Rede Neural\n",
        "\n",
        "#Mape\n",
        "mape_NN = mean_absolute_percentage_error(y_teste, y_pred_teste_NN)\n",
        "\n",
        "#O erro quadrático médio para o modelo de teste\n",
        "rmse_NN = mean_squared_error(y_teste, y_pred_teste_NN, squared= False)\n",
        "\n",
        "# R2\n",
        "r2_NN = r2_score(y_teste, y_pred_teste_NN)"
      ],
      "metadata": {
        "id": "csIrRY8WPeFu"
      },
      "execution_count": 195,
      "outputs": []
    },
    {
      "cell_type": "code",
      "source": [
        "fig = go.Figure(data=[go.Table(header=dict(values=['Métricas','Knnr - Predição','AdaBoost - Predição','Rede Neural - Predição'],\n",
        "                                         align=['center','center'],\n",
        "                                         font=dict(size=20)),\n",
        "                cells=dict(values=[['MAPE','RMSE','R2 Score'],\n",
        "                           [\"{:.5f}\".format(mape_knnr),\"{:.5f}\".format(rmse_knnr), \"{:.5f}\".format(r2_knnr)],\n",
        "                           [\"{:.5f}\".format(mape_ada),\"{:.5f}\".format(rmse_ada), \"{:.5f}\".format(r2_ada)],\n",
        "                           [\"{:.5f}\".format(mape_NN),\"{:.5f}\".format(rmse_NN), \"{:.5f}\".format(r2_NN)],],)),])\n",
        "                \n",
        "fig.show()"
      ],
      "metadata": {
        "colab": {
          "base_uri": "https://localhost:8080/",
          "height": 542
        },
        "id": "Zmv99Jl1DTU3",
        "outputId": "2a045323-ace2-4bcb-fcb7-f7dc9888686c"
      },
      "execution_count": 196,
      "outputs": [
        {
          "output_type": "display_data",
          "data": {
            "text/html": [
              "<html>\n",
              "<head><meta charset=\"utf-8\" /></head>\n",
              "<body>\n",
              "    <div>            <script src=\"https://cdnjs.cloudflare.com/ajax/libs/mathjax/2.7.5/MathJax.js?config=TeX-AMS-MML_SVG\"></script><script type=\"text/javascript\">if (window.MathJax) {MathJax.Hub.Config({SVG: {font: \"STIX-Web\"}});}</script>                <script type=\"text/javascript\">window.PlotlyConfig = {MathJaxConfig: 'local'};</script>\n",
              "        <script src=\"https://cdn.plot.ly/plotly-2.8.3.min.js\"></script>                <div id=\"e2ec2b06-ff13-4822-92ac-9325e667c0e2\" class=\"plotly-graph-div\" style=\"height:525px; width:100%;\"></div>            <script type=\"text/javascript\">                                    window.PLOTLYENV=window.PLOTLYENV || {};                                    if (document.getElementById(\"e2ec2b06-ff13-4822-92ac-9325e667c0e2\")) {                    Plotly.newPlot(                        \"e2ec2b06-ff13-4822-92ac-9325e667c0e2\",                        [{\"cells\":{\"values\":[[\"MAPE\",\"RMSE\",\"R2 Score\"],[\"0.25867\",\"13.46652\",\"0.97898\"],[\"1.47696\",\"15.04613\",\"0.97376\"],[\"3.39388\",\"20.83352\",\"0.94969\"]]},\"header\":{\"align\":[\"center\",\"center\"],\"font\":{\"size\":20},\"values\":[\"M\\u00e9tricas\",\"Knnr - Predi\\u00e7\\u00e3o\",\"AdaBoost - Predi\\u00e7\\u00e3o\",\"Rede Neural - Predi\\u00e7\\u00e3o\"]},\"type\":\"table\"}],                        {\"template\":{\"data\":{\"bar\":[{\"error_x\":{\"color\":\"#2a3f5f\"},\"error_y\":{\"color\":\"#2a3f5f\"},\"marker\":{\"line\":{\"color\":\"#E5ECF6\",\"width\":0.5},\"pattern\":{\"fillmode\":\"overlay\",\"size\":10,\"solidity\":0.2}},\"type\":\"bar\"}],\"barpolar\":[{\"marker\":{\"line\":{\"color\":\"#E5ECF6\",\"width\":0.5},\"pattern\":{\"fillmode\":\"overlay\",\"size\":10,\"solidity\":0.2}},\"type\":\"barpolar\"}],\"carpet\":[{\"aaxis\":{\"endlinecolor\":\"#2a3f5f\",\"gridcolor\":\"white\",\"linecolor\":\"white\",\"minorgridcolor\":\"white\",\"startlinecolor\":\"#2a3f5f\"},\"baxis\":{\"endlinecolor\":\"#2a3f5f\",\"gridcolor\":\"white\",\"linecolor\":\"white\",\"minorgridcolor\":\"white\",\"startlinecolor\":\"#2a3f5f\"},\"type\":\"carpet\"}],\"choropleth\":[{\"colorbar\":{\"outlinewidth\":0,\"ticks\":\"\"},\"type\":\"choropleth\"}],\"contour\":[{\"colorbar\":{\"outlinewidth\":0,\"ticks\":\"\"},\"colorscale\":[[0.0,\"#0d0887\"],[0.1111111111111111,\"#46039f\"],[0.2222222222222222,\"#7201a8\"],[0.3333333333333333,\"#9c179e\"],[0.4444444444444444,\"#bd3786\"],[0.5555555555555556,\"#d8576b\"],[0.6666666666666666,\"#ed7953\"],[0.7777777777777778,\"#fb9f3a\"],[0.8888888888888888,\"#fdca26\"],[1.0,\"#f0f921\"]],\"type\":\"contour\"}],\"contourcarpet\":[{\"colorbar\":{\"outlinewidth\":0,\"ticks\":\"\"},\"type\":\"contourcarpet\"}],\"heatmap\":[{\"colorbar\":{\"outlinewidth\":0,\"ticks\":\"\"},\"colorscale\":[[0.0,\"#0d0887\"],[0.1111111111111111,\"#46039f\"],[0.2222222222222222,\"#7201a8\"],[0.3333333333333333,\"#9c179e\"],[0.4444444444444444,\"#bd3786\"],[0.5555555555555556,\"#d8576b\"],[0.6666666666666666,\"#ed7953\"],[0.7777777777777778,\"#fb9f3a\"],[0.8888888888888888,\"#fdca26\"],[1.0,\"#f0f921\"]],\"type\":\"heatmap\"}],\"heatmapgl\":[{\"colorbar\":{\"outlinewidth\":0,\"ticks\":\"\"},\"colorscale\":[[0.0,\"#0d0887\"],[0.1111111111111111,\"#46039f\"],[0.2222222222222222,\"#7201a8\"],[0.3333333333333333,\"#9c179e\"],[0.4444444444444444,\"#bd3786\"],[0.5555555555555556,\"#d8576b\"],[0.6666666666666666,\"#ed7953\"],[0.7777777777777778,\"#fb9f3a\"],[0.8888888888888888,\"#fdca26\"],[1.0,\"#f0f921\"]],\"type\":\"heatmapgl\"}],\"histogram\":[{\"marker\":{\"pattern\":{\"fillmode\":\"overlay\",\"size\":10,\"solidity\":0.2}},\"type\":\"histogram\"}],\"histogram2d\":[{\"colorbar\":{\"outlinewidth\":0,\"ticks\":\"\"},\"colorscale\":[[0.0,\"#0d0887\"],[0.1111111111111111,\"#46039f\"],[0.2222222222222222,\"#7201a8\"],[0.3333333333333333,\"#9c179e\"],[0.4444444444444444,\"#bd3786\"],[0.5555555555555556,\"#d8576b\"],[0.6666666666666666,\"#ed7953\"],[0.7777777777777778,\"#fb9f3a\"],[0.8888888888888888,\"#fdca26\"],[1.0,\"#f0f921\"]],\"type\":\"histogram2d\"}],\"histogram2dcontour\":[{\"colorbar\":{\"outlinewidth\":0,\"ticks\":\"\"},\"colorscale\":[[0.0,\"#0d0887\"],[0.1111111111111111,\"#46039f\"],[0.2222222222222222,\"#7201a8\"],[0.3333333333333333,\"#9c179e\"],[0.4444444444444444,\"#bd3786\"],[0.5555555555555556,\"#d8576b\"],[0.6666666666666666,\"#ed7953\"],[0.7777777777777778,\"#fb9f3a\"],[0.8888888888888888,\"#fdca26\"],[1.0,\"#f0f921\"]],\"type\":\"histogram2dcontour\"}],\"mesh3d\":[{\"colorbar\":{\"outlinewidth\":0,\"ticks\":\"\"},\"type\":\"mesh3d\"}],\"parcoords\":[{\"line\":{\"colorbar\":{\"outlinewidth\":0,\"ticks\":\"\"}},\"type\":\"parcoords\"}],\"pie\":[{\"automargin\":true,\"type\":\"pie\"}],\"scatter\":[{\"marker\":{\"colorbar\":{\"outlinewidth\":0,\"ticks\":\"\"}},\"type\":\"scatter\"}],\"scatter3d\":[{\"line\":{\"colorbar\":{\"outlinewidth\":0,\"ticks\":\"\"}},\"marker\":{\"colorbar\":{\"outlinewidth\":0,\"ticks\":\"\"}},\"type\":\"scatter3d\"}],\"scattercarpet\":[{\"marker\":{\"colorbar\":{\"outlinewidth\":0,\"ticks\":\"\"}},\"type\":\"scattercarpet\"}],\"scattergeo\":[{\"marker\":{\"colorbar\":{\"outlinewidth\":0,\"ticks\":\"\"}},\"type\":\"scattergeo\"}],\"scattergl\":[{\"marker\":{\"colorbar\":{\"outlinewidth\":0,\"ticks\":\"\"}},\"type\":\"scattergl\"}],\"scattermapbox\":[{\"marker\":{\"colorbar\":{\"outlinewidth\":0,\"ticks\":\"\"}},\"type\":\"scattermapbox\"}],\"scatterpolar\":[{\"marker\":{\"colorbar\":{\"outlinewidth\":0,\"ticks\":\"\"}},\"type\":\"scatterpolar\"}],\"scatterpolargl\":[{\"marker\":{\"colorbar\":{\"outlinewidth\":0,\"ticks\":\"\"}},\"type\":\"scatterpolargl\"}],\"scatterternary\":[{\"marker\":{\"colorbar\":{\"outlinewidth\":0,\"ticks\":\"\"}},\"type\":\"scatterternary\"}],\"surface\":[{\"colorbar\":{\"outlinewidth\":0,\"ticks\":\"\"},\"colorscale\":[[0.0,\"#0d0887\"],[0.1111111111111111,\"#46039f\"],[0.2222222222222222,\"#7201a8\"],[0.3333333333333333,\"#9c179e\"],[0.4444444444444444,\"#bd3786\"],[0.5555555555555556,\"#d8576b\"],[0.6666666666666666,\"#ed7953\"],[0.7777777777777778,\"#fb9f3a\"],[0.8888888888888888,\"#fdca26\"],[1.0,\"#f0f921\"]],\"type\":\"surface\"}],\"table\":[{\"cells\":{\"fill\":{\"color\":\"#EBF0F8\"},\"line\":{\"color\":\"white\"}},\"header\":{\"fill\":{\"color\":\"#C8D4E3\"},\"line\":{\"color\":\"white\"}},\"type\":\"table\"}]},\"layout\":{\"annotationdefaults\":{\"arrowcolor\":\"#2a3f5f\",\"arrowhead\":0,\"arrowwidth\":1},\"autotypenumbers\":\"strict\",\"coloraxis\":{\"colorbar\":{\"outlinewidth\":0,\"ticks\":\"\"}},\"colorscale\":{\"diverging\":[[0,\"#8e0152\"],[0.1,\"#c51b7d\"],[0.2,\"#de77ae\"],[0.3,\"#f1b6da\"],[0.4,\"#fde0ef\"],[0.5,\"#f7f7f7\"],[0.6,\"#e6f5d0\"],[0.7,\"#b8e186\"],[0.8,\"#7fbc41\"],[0.9,\"#4d9221\"],[1,\"#276419\"]],\"sequential\":[[0.0,\"#0d0887\"],[0.1111111111111111,\"#46039f\"],[0.2222222222222222,\"#7201a8\"],[0.3333333333333333,\"#9c179e\"],[0.4444444444444444,\"#bd3786\"],[0.5555555555555556,\"#d8576b\"],[0.6666666666666666,\"#ed7953\"],[0.7777777777777778,\"#fb9f3a\"],[0.8888888888888888,\"#fdca26\"],[1.0,\"#f0f921\"]],\"sequentialminus\":[[0.0,\"#0d0887\"],[0.1111111111111111,\"#46039f\"],[0.2222222222222222,\"#7201a8\"],[0.3333333333333333,\"#9c179e\"],[0.4444444444444444,\"#bd3786\"],[0.5555555555555556,\"#d8576b\"],[0.6666666666666666,\"#ed7953\"],[0.7777777777777778,\"#fb9f3a\"],[0.8888888888888888,\"#fdca26\"],[1.0,\"#f0f921\"]]},\"colorway\":[\"#636efa\",\"#EF553B\",\"#00cc96\",\"#ab63fa\",\"#FFA15A\",\"#19d3f3\",\"#FF6692\",\"#B6E880\",\"#FF97FF\",\"#FECB52\"],\"font\":{\"color\":\"#2a3f5f\"},\"geo\":{\"bgcolor\":\"white\",\"lakecolor\":\"white\",\"landcolor\":\"#E5ECF6\",\"showlakes\":true,\"showland\":true,\"subunitcolor\":\"white\"},\"hoverlabel\":{\"align\":\"left\"},\"hovermode\":\"closest\",\"mapbox\":{\"style\":\"light\"},\"paper_bgcolor\":\"white\",\"plot_bgcolor\":\"#E5ECF6\",\"polar\":{\"angularaxis\":{\"gridcolor\":\"white\",\"linecolor\":\"white\",\"ticks\":\"\"},\"bgcolor\":\"#E5ECF6\",\"radialaxis\":{\"gridcolor\":\"white\",\"linecolor\":\"white\",\"ticks\":\"\"}},\"scene\":{\"xaxis\":{\"backgroundcolor\":\"#E5ECF6\",\"gridcolor\":\"white\",\"gridwidth\":2,\"linecolor\":\"white\",\"showbackground\":true,\"ticks\":\"\",\"zerolinecolor\":\"white\"},\"yaxis\":{\"backgroundcolor\":\"#E5ECF6\",\"gridcolor\":\"white\",\"gridwidth\":2,\"linecolor\":\"white\",\"showbackground\":true,\"ticks\":\"\",\"zerolinecolor\":\"white\"},\"zaxis\":{\"backgroundcolor\":\"#E5ECF6\",\"gridcolor\":\"white\",\"gridwidth\":2,\"linecolor\":\"white\",\"showbackground\":true,\"ticks\":\"\",\"zerolinecolor\":\"white\"}},\"shapedefaults\":{\"line\":{\"color\":\"#2a3f5f\"}},\"ternary\":{\"aaxis\":{\"gridcolor\":\"white\",\"linecolor\":\"white\",\"ticks\":\"\"},\"baxis\":{\"gridcolor\":\"white\",\"linecolor\":\"white\",\"ticks\":\"\"},\"bgcolor\":\"#E5ECF6\",\"caxis\":{\"gridcolor\":\"white\",\"linecolor\":\"white\",\"ticks\":\"\"}},\"title\":{\"x\":0.05},\"xaxis\":{\"automargin\":true,\"gridcolor\":\"white\",\"linecolor\":\"white\",\"ticks\":\"\",\"title\":{\"standoff\":15},\"zerolinecolor\":\"white\",\"zerolinewidth\":2},\"yaxis\":{\"automargin\":true,\"gridcolor\":\"white\",\"linecolor\":\"white\",\"ticks\":\"\",\"title\":{\"standoff\":15},\"zerolinecolor\":\"white\",\"zerolinewidth\":2}}}},                        {\"responsive\": true}                    ).then(function(){\n",
              "                            \n",
              "var gd = document.getElementById('e2ec2b06-ff13-4822-92ac-9325e667c0e2');\n",
              "var x = new MutationObserver(function (mutations, observer) {{\n",
              "        var display = window.getComputedStyle(gd).display;\n",
              "        if (!display || display === 'none') {{\n",
              "            console.log([gd, 'removed!']);\n",
              "            Plotly.purge(gd);\n",
              "            observer.disconnect();\n",
              "        }}\n",
              "}});\n",
              "\n",
              "// Listen for the removal of the full notebook cells\n",
              "var notebookContainer = gd.closest('#notebook-container');\n",
              "if (notebookContainer) {{\n",
              "    x.observe(notebookContainer, {childList: true});\n",
              "}}\n",
              "\n",
              "// Listen for the clearing of the current output cell\n",
              "var outputEl = gd.closest('.output');\n",
              "if (outputEl) {{\n",
              "    x.observe(outputEl, {childList: true});\n",
              "}}\n",
              "\n",
              "                        })                };                            </script>        </div>\n",
              "</body>\n",
              "</html>"
            ]
          },
          "metadata": {}
        }
      ]
    },
    {
      "cell_type": "code",
      "source": [
        "import numpy as np\n",
        "import matplotlib.pyplot as plt\n",
        "\n",
        "plt.title('Inversão 1D')\n",
        "plt.xlabel('Rho (ohm.m)')\n",
        "plt.ylabel('z (m)')\n",
        "\n",
        "plt.plot()\n",
        "plt.plot(y_teste, x_teste[:,0], '--b', label= 'Real')\n",
        "plt.plot(y_pred_teste_knnr, x_teste[:,0], '-r', label='KNN')\n",
        "plt.plot(y_pred_teste_ada, x_teste[:,0], '-k',label = 'Adaboost')\n",
        "plt.plot(y_pred_teste_NN, x_teste[:,0], '-g',label = 'Rede Neural')\n",
        "#plt.ylim(1200, 4000)\n",
        "plt.legend()\n",
        "plt.gca().invert_yaxis()"
      ],
      "metadata": {
        "colab": {
          "base_uri": "https://localhost:8080/",
          "height": 299
        },
        "id": "QXD6TCsuEO0H",
        "outputId": "107d673d-e961-40e8-f0fc-af9c6f092de9"
      },
      "execution_count": 197,
      "outputs": [
        {
          "output_type": "display_data",
          "data": {
            "text/plain": [
              "<Figure size 432x288 with 1 Axes>"
            ],
            "image/png": "[encoded data removed]"
          },
          "metadata": {}
        }
      ]
    }
  ]
}